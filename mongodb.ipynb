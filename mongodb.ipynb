{
 "cells": [
  {
   "cell_type": "markdown",
   "metadata": {},
   "source": [
    "# MongoDB.\n",
    "    Bailey Smith\n",
    "    November 28 2017"
   ]
  },
  {
   "cell_type": "code",
   "execution_count": 1,
   "metadata": {
    "collapsed": false
   },
   "outputs": [],
   "source": [
    "import re\n",
    "import json\n",
    "import numpy as np\n",
    "from pymongo import MongoClient"
   ]
  },
  {
   "cell_type": "markdown",
   "metadata": {},
   "source": [
    "The file `trump.json` contains posts from http://www.twitter.com (tweets) over the course of an hour that have the key word \"trump\".\n",
    "Each line in the file is a single JSON message that is loaded with `json.loads()`.\n",
    "\n",
    "Creation of a MongoDB database and initialization of a collection in the database.\n",
    "Clears existing contents of the collection, then fills the collection one line at a time with the data from `trump.json`.\n",
    "Checks that collection has 95,643 entries."
   ]
  },
  {
   "cell_type": "code",
   "execution_count": 2,
   "metadata": {
    "collapsed": false
   },
   "outputs": [],
   "source": [
    "client = MongoClient()\n",
    "\n",
    "# Create a new database.\n",
    "db = client.db1\n",
    "\n",
    "# Create a new collection in the db database.\n",
    "col = db.collection1\n",
    "\n",
    "col.insert_one({'name': 'Jack', 'age': 23})\n",
    "\n",
    "col.delete_many({})"
   ]
  },
  {
   "cell_type": "code",
   "execution_count": 5,
   "metadata": {
    "collapsed": false
   },
   "outputs": [],
   "source": [
    "with open('trump.json','r') as f:\n",
    "    for line in f:\n",
    "        data = json.loads(line) # load json\n",
    "        col.insert_one(data) # insert each line into database"
   ]
  },
  {
   "cell_type": "code",
   "execution_count": 6,
   "metadata": {
    "collapsed": false
   },
   "outputs": [
    {
     "name": "stdout",
     "output_type": "stream",
     "text": [
      "95643\n"
     ]
    }
   ],
   "source": [
    "print(col.count())"
   ]
  },
  {
   "cell_type": "markdown",
   "metadata": {},
   "source": [
    "Queries of the Twitter collection for the following information.\n",
    "- How many tweets include the word Russia? Use `re.IGNORECASE`.\n",
    "- How many tweets came from one of the main continental US time zones? These are listed as `\"Central Time (US & Canada)\"`, `\"Pacific Time (US & Canada)\"`, `\"Eastern Time (US & Canada)\"`, and `\"Mountain Time (US & Canada)\"`.\n",
    "- How often does each language occur? Construct a dictionary with each language and it’s frequency count."
   ]
  },
  {
   "cell_type": "code",
   "execution_count": 9,
   "metadata": {
    "collapsed": false
   },
   "outputs": [
    {
     "name": "stdout",
     "output_type": "stream",
     "text": [
      "Number of tweets that include the word Russia: 5841\n"
     ]
    }
   ],
   "source": [
    "# Query for the word russia in the text of each tweet\n",
    "result1 = col.find({'text' : {'$regex' : re.compile('russia', re.IGNORECASE)}})\n",
    "print(\"Number of tweets that include the word Russia:\",result1.count())"
   ]
  },
  {
   "cell_type": "code",
   "execution_count": 10,
   "metadata": {
    "collapsed": false
   },
   "outputs": [
    {
     "name": "stdout",
     "output_type": "stream",
     "text": [
      "Number of tweets that came from one of the main continental US time zones: 33939\n"
     ]
    }
   ],
   "source": [
    "# Query for time_zone that is one of the main US time zones\n",
    "result2 = col.find({'$or' : [{'user.time_zone' : \"Central Time (US & Canada)\"}, \n",
    "                             {'user.time_zone' : \"Pacific Time (US & Canada)\"}, \n",
    "                             {'user.time_zone' : \"Eastern Time (US & Canada)\"}, \n",
    "                             {'user.time_zone' : \"Mountain Time (US & Canada)\"}]})\n",
    "print(\"Number of tweets that came from one of the main continental US time zones:\",result2.count())"
   ]
  },
  {
   "cell_type": "code",
   "execution_count": 12,
   "metadata": {
    "collapsed": true
   },
   "outputs": [],
   "source": [
    "languages = col.distinct('lang') # get list of all languages that occur\n",
    "my_dict = dict([])\n",
    "for l in languages:\n",
    "    result = col.find({'lang' : l})\n",
    "    count = result.count()\n",
    "    my_dict[l] = count"
   ]
  },
  {
   "cell_type": "code",
   "execution_count": 13,
   "metadata": {
    "collapsed": false
   },
   "outputs": [
    {
     "name": "stdout",
     "output_type": "stream",
     "text": [
      "Frequency of languages\n",
      "{'en': 84919, 'fr': 1235, 'es': 3027, 'tr': 588, 'nl': 212, 'pt': 632, 'und': 1653, 'it': 423, 'de': 635, 'da': 35, 'zh': 1, 'ru': 29, 'pl': 108, 'no': 21, 'eu': 6, 'tl': 48, 'in': 121, 'cs': 13, 'ht': 21, 'ro': 21, 'sl': 3, 'sv': 55, 'fi': 20, 'ar': 30, 'et': 23, 'lt': 8, 'hu': 6, 'el': 10, 'ja': 17, 'lv': 2, 'vi': 7, 'fa': 5, 'ko': 2, 'ur': 1, 'cy': 2, 'th': 3, 'is': 1, 'iw': 1, 'uk': 3}\n"
     ]
    }
   ],
   "source": [
    "print(\"Frequency of languages\")\n",
    "print(my_dict)"
   ]
  },
  {
   "cell_type": "markdown",
   "metadata": {},
   "source": [
    "Queries of the first Twitter collection for the following information.\n",
    "- What are the usernames of the 5 most popular (defined as having the most followers) tweeters? Don’t include repeats.\n",
    "- Of the tweets containing at least 5 hashtags, sort the tweets by how early the 5th hashtag appears in the text. What is the earliest spot (character count) it appears?\n",
    "- What are the coordinates of the tweet that came from the northernmost location? Use the latitude and longitude point in `\"coordinates\"`."
   ]
  },
  {
   "cell_type": "code",
   "execution_count": 17,
   "metadata": {
    "collapsed": false
   },
   "outputs": [],
   "source": [
    "# Query for followers_count that is >= 1000 then sorting\n",
    "new_results = col.find({'user.followers_count': {'$exists': True}}).sort('user.followers_count', -1)"
   ]
  },
  {
   "cell_type": "code",
   "execution_count": 18,
   "metadata": {
    "collapsed": false
   },
   "outputs": [
    {
     "name": "stdout",
     "output_type": "stream",
     "text": [
      "Usernames of the 5 most popular tweeters: {'Fox News', 'CNN', 'TIME', 'Wall Street Journal', 'Reuters Top News'}\n"
     ]
    }
   ],
   "source": [
    "s = set()\n",
    "for user in new_results[:10]:\n",
    "    s.add(user['user']['name']) # add users to a set so we can get the top 5 unique users\n",
    "    if len(s) == 5:\n",
    "        break\n",
    "print(\"Usernames of the 5 most popular tweeters:\",s)"
   ]
  },
  {
   "cell_type": "code",
   "execution_count": 19,
   "metadata": {
    "collapsed": true
   },
   "outputs": [],
   "source": [
    "# Query for hashtags that have at least 5 entries and sort based on indices (ie the position of the hashtag in the tweet)\n",
    "hashtags = col.find({'entities.hashtags.4': {'$exists': True}}).sort('entities.hashtags.4.indices.0')"
   ]
  },
  {
   "cell_type": "code",
   "execution_count": 20,
   "metadata": {
    "collapsed": false
   },
   "outputs": [
    {
     "name": "stdout",
     "output_type": "stream",
     "text": [
      "Earliest spot that a 5th hashtag appears: 23\n"
     ]
    }
   ],
   "source": [
    "print(\"Earliest spot that a 5th hashtag appears:\",hashtags[0]['entities']['hashtags'][4]['indices'][0])"
   ]
  },
  {
   "cell_type": "code",
   "execution_count": 21,
   "metadata": {
    "collapsed": true
   },
   "outputs": [],
   "source": [
    "# Query for coordinates  and sort based on latitude\n",
    "coordinates = col.find({'coordinates.coordinates':{'$exists': True}}).sort('coordinates.coordinates.0',-1)"
   ]
  },
  {
   "cell_type": "code",
   "execution_count": 22,
   "metadata": {
    "collapsed": false
   },
   "outputs": [
    {
     "name": "stdout",
     "output_type": "stream",
     "text": [
      "Coordinates of the tweet that came from the northernmost location: [28.99237342, 41.06803023]\n"
     ]
    }
   ],
   "source": [
    "print(\"Coordinates of the tweet that came from the northernmost location:\",coordinates[0]['coordinates']['coordinates'])"
   ]
  },
  {
   "cell_type": "markdown",
   "metadata": {},
   "source": [
    "Cleaned the Twitter collection in the following ways.\n",
    "\n",
    "- Got rid of the `\"retweeted_status\"` field in each tweet.\n",
    "- Updated every tweet from someone with at least 1000 followers to include a popular field whose value is True. Reported the number of popular tweets."
   ]
  },
  {
   "cell_type": "code",
   "execution_count": 75,
   "metadata": {
    "collapsed": false
   },
   "outputs": [],
   "source": [
    "#Get rid of \"retweeted_status\" field\n",
    "no_retweet = col.update_many({'retweeted_status' : {'$exists': True}}, {'$unset' : {'retweeted_status' : \"\"}})"
   ]
  },
  {
   "cell_type": "code",
   "execution_count": 26,
   "metadata": {
    "collapsed": false
   },
   "outputs": [
    {
     "name": "stdout",
     "output_type": "stream",
     "text": [
      "dict_keys(['_id', 'created_at', 'id', 'id_str', 'text', 'source', 'truncated', 'in_reply_to_status_id', 'in_reply_to_status_id_str', 'in_reply_to_user_id', 'in_reply_to_user_id_str', 'in_reply_to_screen_name', 'user', 'geo', 'coordinates', 'place', 'contributors', 'is_quote_status', 'retweet_count', 'favorite_count', 'entities', 'favorited', 'retweeted', 'possibly_sensitive', 'filter_level', 'lang', 'timestamp_ms', 'popular'])\n"
     ]
    }
   ],
   "source": [
    "print(col.find_one().keys())"
   ]
  },
  {
   "cell_type": "code",
   "execution_count": 4,
   "metadata": {
    "collapsed": false
   },
   "outputs": [
    {
     "data": {
      "text/plain": [
       "<pymongo.results.UpdateResult at 0x116207148>"
      ]
     },
     "execution_count": 4,
     "metadata": {},
     "output_type": "execute_result"
    }
   ],
   "source": [
    "# Add popular field that is set to True for users with 1000 followers or more\n",
    "col.update_many({\"user.followers_count\" : {'$gte' : 1000}}, {'$set': {'popular': True}})"
   ]
  },
  {
   "cell_type": "code",
   "execution_count": 6,
   "metadata": {
    "collapsed": false
   },
   "outputs": [
    {
     "data": {
      "text/plain": [
       "True"
      ]
     },
     "execution_count": 6,
     "metadata": {},
     "output_type": "execute_result"
    }
   ],
   "source": [
    "col.find_one({\"user.followers_count\" : {'$gte' : 1000}})['popular']"
   ]
  }
 ],
 "metadata": {
  "anaconda-cloud": {},
  "kernelspec": {
   "display_name": "Python [py36]",
   "language": "python",
   "name": "Python [py36]"
  },
  "language_info": {
   "codemirror_mode": {
    "name": "ipython",
    "version": 3
   },
   "file_extension": ".py",
   "mimetype": "text/x-python",
   "name": "python",
   "nbconvert_exporter": "python",
   "pygments_lexer": "ipython3",
   "version": "3.6.3"
  }
 },
 "nbformat": 4,
 "nbformat_minor": 2
}
