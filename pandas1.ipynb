{
 "cells": [
  {
   "cell_type": "markdown",
   "metadata": {},
   "source": [
    "# Pandas 1\n",
    "    Bailey Smtih\n",
    "    October 14 2017"
   ]
  },
  {
   "cell_type": "code",
   "execution_count": 1,
   "metadata": {
    "collapsed": true
   },
   "outputs": [],
   "source": [
    "import numpy as np\n",
    "import pandas as pd\n",
    "from matplotlib import pyplot as plt\n",
    "\n",
    "%matplotlib inline"
   ]
  },
  {
   "cell_type": "markdown",
   "metadata": {},
   "source": [
    "Creation of pandas `Series` where the index labels are the even integers $0,2,\\ldots,100$ and the entries are the label squared minus one.\n",
    "That is, the $n$th entry in the `Series` is $n^2 − 1$ and has label $n$."
   ]
  },
  {
   "cell_type": "code",
   "execution_count": 2,
   "metadata": {
    "collapsed": false
   },
   "outputs": [
    {
     "data": {
      "text/plain": [
       "0        0\n",
       "2        3\n",
       "4       15\n",
       "6        0\n",
       "8       63\n",
       "10      99\n",
       "12       0\n",
       "14     195\n",
       "16     255\n",
       "18       0\n",
       "20     399\n",
       "22     483\n",
       "24       0\n",
       "26     675\n",
       "28     783\n",
       "30       0\n",
       "32    1023\n",
       "34    1155\n",
       "36       0\n",
       "38    1443\n",
       "40    1599\n",
       "42       0\n",
       "44    1935\n",
       "46    2115\n",
       "48       0\n",
       "50    2499\n",
       "dtype: int64"
      ]
     },
     "execution_count": 2,
     "metadata": {},
     "output_type": "execute_result"
    }
   ],
   "source": [
    "mylist = np.arange(0,52,2)\n",
    "mylist[mylist % 3 == 0] = 1\n",
    "series1 = pd.Series([n**2-1 for n in mylist],index=np.arange(0,52,2))\n",
    "series1"
   ]
  },
  {
   "cell_type": "markdown",
   "metadata": {},
   "source": [
    "Suppose you make an investment of $d$ dollars in a particularly volatile stock.\n",
    "Every day the value of your stock goes up by \\$$1$ with probability $p$, or down by \\$$1$ with probability $1-p$ (this is an example of a _random walk_).\n",
    "\n",
    "The following function  accepts a probability parameter $p$ and an initial amount of money $d$, defaulting to $100$.\n",
    "Creates an index of the days from 1 January 2000 to 31 December 2000.\n",
    "Simulates the daily change of the stock by making one draw from a Bernoulli distribution with parameter $p$ for each day.\n",
    "Stores the draws in a pandas `Series` with the date index and set the first draw to the initial amount $d$.\n",
    "Sums the entries cumulatively to get the stock value by day.\n",
    "Sets any negative values to $0$, then plots the series."
   ]
  },
  {
   "cell_type": "code",
   "execution_count": 3,
   "metadata": {
    "collapsed": true
   },
   "outputs": [],
   "source": [
    "def random_walk(p, initial_fund=100):\n",
    "    days = pd.date_range(\"1/1/2000\", \"12/31/2000\", freq='D')\n",
    "    w = np.ones(len(days))*initial_fund\n",
    "    w[1:] = np.random.binomial(1, p, size=(len(days)-1,))*2-1\n",
    "    w = pd.Series(w, index = days)\n",
    "    w = w.cumsum() #random walk\n",
    "    w[w<0] = 0\n",
    "    w.plot(label=\"p = \"+str(p)+ \" d = \"+str(initial_fund))\n",
    "    plt.xlabel(\"Time (Days)\")\n",
    "    plt.ylabel(\"Total Money ($)\")\n",
    "    plt.title(\"Random Walk\")\n",
    "    plt.legend(loc='best')"
   ]
  },
  {
   "cell_type": "markdown",
   "metadata": {},
   "source": [
    "Random walk observations"
   ]
  },
  {
   "cell_type": "code",
   "execution_count": 4,
   "metadata": {
    "collapsed": false
   },
   "outputs": [
    {
     "data": {
      "image/png": "[encoded data removed]",
      "text/plain": [
       "<matplotlib.figure.Figure at 0x112d49208>"
      ]
     },
     "metadata": {},
     "output_type": "display_data"
    }
   ],
   "source": [
    "random_walk(.5)\n",
    "random_walk(.2)\n",
    "random_walk(.7, 50)"
   ]
  },
  {
   "cell_type": "markdown",
   "metadata": {},
   "source": [
    "Use of pandas to perform the following SQL query on the ''tables'' constructed below.\n",
    "\n",
    "`SELECT ID, Name from studentInfo WHERE Age > 19 AND Sex = 'M'`"
   ]
  },
  {
   "cell_type": "code",
   "execution_count": 5,
   "metadata": {
    "collapsed": true
   },
   "outputs": [],
   "source": [
    "name = ['Mylan', 'Regan', 'Justin', 'Jess', 'Jason', 'Remi', 'Matt', 'Alexander', 'JeanMarie']\n",
    "sex = ['M', 'F', 'M', 'F', 'M', 'F', 'M', 'M', 'F']\n",
    "age = [20, 21, 18, 22, 19, 20, 20, 19, 20]\n",
    "rank = ['Sp', 'Se', 'Fr', 'Se', 'Sp', 'J', 'J', 'J', 'Se']\n",
    "ID = range(9)\n",
    "aid = ['y', 'n', 'n', 'y', 'n', 'n', 'n', 'y', 'n']\n",
    "GPA = [3.8, 3.5, 3.0, 3.9, 2.8, 2.9, 3.8, 3.4, 3.7]\n",
    "mathID = [0, 1, 5, 6, 3]\n",
    "mathGd = [4.0, 3.0, 3.5, 3.0, 4.0]\n",
    "major = ['y', 'n', 'y', 'n', 'n']\n",
    "studentInfo = pd.DataFrame({'ID': ID, 'Name': name, 'Sex': sex, 'Age': age, 'Class': rank})\n",
    "otherInfo = pd.DataFrame({'ID': ID, 'GPA': GPA, 'Financial_Aid': aid})\n",
    "mathInfo = pd.DataFrame({'ID': mathID, 'Grade': mathGd, 'Math_Major': major})"
   ]
  },
  {
   "cell_type": "code",
   "execution_count": 6,
   "metadata": {
    "collapsed": false
   },
   "outputs": [
    {
     "data": {
      "text/html": [
       "<div>\n",
       "<style>\n",
       "    .dataframe thead tr:only-child th {\n",
       "        text-align: right;\n",
       "    }\n",
       "\n",
       "    .dataframe thead th {\n",
       "        text-align: left;\n",
       "    }\n",
       "\n",
       "    .dataframe tbody tr th {\n",
       "        vertical-align: top;\n",
       "    }\n",
       "</style>\n",
       "<table border=\"1\" class=\"dataframe\">\n",
       "  <thead>\n",
       "    <tr style=\"text-align: right;\">\n",
       "      <th></th>\n",
       "      <th>ID</th>\n",
       "      <th>Name</th>\n",
       "    </tr>\n",
       "  </thead>\n",
       "  <tbody>\n",
       "    <tr>\n",
       "      <th>0</th>\n",
       "      <td>0</td>\n",
       "      <td>Mylan</td>\n",
       "    </tr>\n",
       "    <tr>\n",
       "      <th>6</th>\n",
       "      <td>6</td>\n",
       "      <td>Matt</td>\n",
       "    </tr>\n",
       "  </tbody>\n",
       "</table>\n",
       "</div>"
      ],
      "text/plain": [
       "   ID   Name\n",
       "0   0  Mylan\n",
       "6   6   Matt"
      ]
     },
     "execution_count": 6,
     "metadata": {},
     "output_type": "execute_result"
    }
   ],
   "source": [
    "studentInfo[(studentInfo['Age'] > 19) & (studentInfo['Sex'] == 'M')][['ID','Name']]"
   ]
  },
  {
   "cell_type": "markdown",
   "metadata": {},
   "source": [
    "Use of a join operation, create a DataFrame containing the ID, age, and GPA of all male individuals."
   ]
  },
  {
   "cell_type": "code",
   "execution_count": 7,
   "metadata": {
    "collapsed": false
   },
   "outputs": [
    {
     "data": {
      "text/html": [
       "<div>\n",
       "<style>\n",
       "    .dataframe thead tr:only-child th {\n",
       "        text-align: right;\n",
       "    }\n",
       "\n",
       "    .dataframe thead th {\n",
       "        text-align: left;\n",
       "    }\n",
       "\n",
       "    .dataframe tbody tr th {\n",
       "        vertical-align: top;\n",
       "    }\n",
       "</style>\n",
       "<table border=\"1\" class=\"dataframe\">\n",
       "  <thead>\n",
       "    <tr style=\"text-align: right;\">\n",
       "      <th></th>\n",
       "      <th>ID</th>\n",
       "      <th>Age</th>\n",
       "      <th>GPA</th>\n",
       "    </tr>\n",
       "  </thead>\n",
       "  <tbody>\n",
       "    <tr>\n",
       "      <th>0</th>\n",
       "      <td>0</td>\n",
       "      <td>20</td>\n",
       "      <td>3.8</td>\n",
       "    </tr>\n",
       "    <tr>\n",
       "      <th>2</th>\n",
       "      <td>2</td>\n",
       "      <td>18</td>\n",
       "      <td>3.0</td>\n",
       "    </tr>\n",
       "    <tr>\n",
       "      <th>4</th>\n",
       "      <td>4</td>\n",
       "      <td>19</td>\n",
       "      <td>2.8</td>\n",
       "    </tr>\n",
       "    <tr>\n",
       "      <th>6</th>\n",
       "      <td>6</td>\n",
       "      <td>20</td>\n",
       "      <td>3.8</td>\n",
       "    </tr>\n",
       "    <tr>\n",
       "      <th>7</th>\n",
       "      <td>7</td>\n",
       "      <td>19</td>\n",
       "      <td>3.4</td>\n",
       "    </tr>\n",
       "  </tbody>\n",
       "</table>\n",
       "</div>"
      ],
      "text/plain": [
       "   ID  Age  GPA\n",
       "0   0   20  3.8\n",
       "2   2   18  3.0\n",
       "4   4   19  2.8\n",
       "6   6   20  3.8\n",
       "7   7   19  3.4"
      ]
     },
     "execution_count": 7,
     "metadata": {},
     "output_type": "execute_result"
    }
   ],
   "source": [
    "new_dataframe = pd.merge(studentInfo, otherInfo, on='ID')[studentInfo['Sex']=='M'][['ID','Age','GPA']]\n",
    "new_dataframe"
   ]
  },
  {
   "cell_type": "markdown",
   "metadata": {},
   "source": [
    "The file `crime_data.csv` contains data on types of crimes committed in the United States from 1960 to 2016.\n",
    "- Loaded the data into a pandas \\li{DataFrame}, using the column names in the file and the column titled\n",
    "`\"Year\"` as the index.\n",
    "Skipped lines that don't contain data.\n",
    "- Inserted a new column into the data frame that contains the crime rate by year\\\n",
    "- Ploted the crime rate as a function of the year.\n",
    "- Listed the 5 years with the highest crime rate in descending order.\n",
    "- Calculated the average number of total crimes as well as burglary crimes between 1960 and 2012.\n",
    "- Found the years for which the total number of crimes was below average, but the number of burglaries\n",
    "was above average.\n",
    "- Plotted the number of murders as a function of the population.\n",
    "- Selected the Population, Violent, and Robbery columns for all years in the 1980s, and saved\n",
    "this smaller data frame to a CSV file `crime_subset.csv`.\n"
   ]
  },
  {
   "cell_type": "code",
   "execution_count": 8,
   "metadata": {
    "collapsed": false
   },
   "outputs": [
    {
     "data": {
      "text/html": [
       "<div>\n",
       "<style>\n",
       "    .dataframe thead tr:only-child th {\n",
       "        text-align: right;\n",
       "    }\n",
       "\n",
       "    .dataframe thead th {\n",
       "        text-align: left;\n",
       "    }\n",
       "\n",
       "    .dataframe tbody tr th {\n",
       "        vertical-align: top;\n",
       "    }\n",
       "</style>\n",
       "<table border=\"1\" class=\"dataframe\">\n",
       "  <thead>\n",
       "    <tr style=\"text-align: right;\">\n",
       "      <th></th>\n",
       "      <th>Population</th>\n",
       "      <th>Total</th>\n",
       "      <th>Violent</th>\n",
       "      <th>Property</th>\n",
       "      <th>Murder</th>\n",
       "      <th>Forcible Rape</th>\n",
       "      <th>Robbery</th>\n",
       "      <th>Aggravated Assault</th>\n",
       "      <th>Burglary</th>\n",
       "      <th>Larceny</th>\n",
       "      <th>Vehicle Theft</th>\n",
       "    </tr>\n",
       "    <tr>\n",
       "      <th>Year</th>\n",
       "      <th></th>\n",
       "      <th></th>\n",
       "      <th></th>\n",
       "      <th></th>\n",
       "      <th></th>\n",
       "      <th></th>\n",
       "      <th></th>\n",
       "      <th></th>\n",
       "      <th></th>\n",
       "      <th></th>\n",
       "      <th></th>\n",
       "    </tr>\n",
       "  </thead>\n",
       "  <tbody>\n",
       "    <tr>\n",
       "      <th>1960</th>\n",
       "      <td>179323175</td>\n",
       "      <td>3384200</td>\n",
       "      <td>288460</td>\n",
       "      <td>3095700</td>\n",
       "      <td>9110</td>\n",
       "      <td>17190</td>\n",
       "      <td>107840</td>\n",
       "      <td>154320</td>\n",
       "      <td>912100</td>\n",
       "      <td>1855400</td>\n",
       "      <td>328200</td>\n",
       "    </tr>\n",
       "    <tr>\n",
       "      <th>1961</th>\n",
       "      <td>182992000</td>\n",
       "      <td>3488000</td>\n",
       "      <td>289390</td>\n",
       "      <td>3198600</td>\n",
       "      <td>8740</td>\n",
       "      <td>17220</td>\n",
       "      <td>106670</td>\n",
       "      <td>156760</td>\n",
       "      <td>949600</td>\n",
       "      <td>1913000</td>\n",
       "      <td>336000</td>\n",
       "    </tr>\n",
       "    <tr>\n",
       "      <th>1962</th>\n",
       "      <td>185771000</td>\n",
       "      <td>3752200</td>\n",
       "      <td>301510</td>\n",
       "      <td>3450700</td>\n",
       "      <td>8530</td>\n",
       "      <td>17550</td>\n",
       "      <td>110860</td>\n",
       "      <td>164570</td>\n",
       "      <td>994300</td>\n",
       "      <td>2089600</td>\n",
       "      <td>366800</td>\n",
       "    </tr>\n",
       "    <tr>\n",
       "      <th>1963</th>\n",
       "      <td>188483000</td>\n",
       "      <td>4109500</td>\n",
       "      <td>316970</td>\n",
       "      <td>3792500</td>\n",
       "      <td>8640</td>\n",
       "      <td>17650</td>\n",
       "      <td>116470</td>\n",
       "      <td>174210</td>\n",
       "      <td>1086400</td>\n",
       "      <td>2297800</td>\n",
       "      <td>408300</td>\n",
       "    </tr>\n",
       "    <tr>\n",
       "      <th>1964</th>\n",
       "      <td>191141000</td>\n",
       "      <td>4564600</td>\n",
       "      <td>364220</td>\n",
       "      <td>4200400</td>\n",
       "      <td>9360</td>\n",
       "      <td>21420</td>\n",
       "      <td>130390</td>\n",
       "      <td>203050</td>\n",
       "      <td>1213200</td>\n",
       "      <td>2514400</td>\n",
       "      <td>472800</td>\n",
       "    </tr>\n",
       "  </tbody>\n",
       "</table>\n",
       "</div>"
      ],
      "text/plain": [
       "      Population    Total  Violent  Property  Murder  Forcible Rape  Robbery  \\\n",
       "Year                                                                           \n",
       "1960   179323175  3384200   288460   3095700    9110          17190   107840   \n",
       "1961   182992000  3488000   289390   3198600    8740          17220   106670   \n",
       "1962   185771000  3752200   301510   3450700    8530          17550   110860   \n",
       "1963   188483000  4109500   316970   3792500    8640          17650   116470   \n",
       "1964   191141000  4564600   364220   4200400    9360          21420   130390   \n",
       "\n",
       "      Aggravated Assault  Burglary  Larceny  Vehicle Theft  \n",
       "Year                                                        \n",
       "1960              154320    912100  1855400         328200  \n",
       "1961              156760    949600  1913000         336000  \n",
       "1962              164570    994300  2089600         366800  \n",
       "1963              174210   1086400  2297800         408300  \n",
       "1964              203050   1213200  2514400         472800  "
      ]
     },
     "execution_count": 8,
     "metadata": {},
     "output_type": "execute_result"
    }
   ],
   "source": [
    "filename = \"crime_data.csv\"\n",
    "data = pd.read_csv(filename,index_col='Year') #Load data with \"Year\" as index\n",
    "data.head()"
   ]
  },
  {
   "cell_type": "code",
   "execution_count": 9,
   "metadata": {
    "collapsed": false
   },
   "outputs": [],
   "source": [
    "data['Crime Rate'] = pd.Series(data['Total']/data['Population'],data.index)#Insert crime rate column"
   ]
  },
  {
   "cell_type": "markdown",
   "metadata": {},
   "source": [
    "#### Graph of the Crime Rate"
   ]
  },
  {
   "cell_type": "code",
   "execution_count": 10,
   "metadata": {
    "collapsed": false
   },
   "outputs": [
    {
     "data": {
      "text/plain": [
       "<matplotlib.axes._subplots.AxesSubplot at 0x116270518>"
      ]
     },
     "execution_count": 10,
     "metadata": {},
     "output_type": "execute_result"
    },
    {
     "data": {
      "image/png": "[encoded data removed]",
      "text/plain": [
       "<matplotlib.figure.Figure at 0x11623a198>"
      ]
     },
     "metadata": {},
     "output_type": "display_data"
    }
   ],
   "source": [
    "data.plot(y=\"Crime Rate\")"
   ]
  },
  {
   "cell_type": "markdown",
   "metadata": {},
   "source": [
    "#### 5 Highest Crime Years"
   ]
  },
  {
   "cell_type": "code",
   "execution_count": 11,
   "metadata": {
    "collapsed": false
   },
   "outputs": [
    {
     "name": "stdout",
     "output_type": "stream",
     "text": [
      "1980 1991 1981 1990 1989\n"
     ]
    }
   ],
   "source": [
    "highest_crime = data.nlargest(5,\"Crime Rate\").index\n",
    "print(*highest_crime)"
   ]
  },
  {
   "cell_type": "markdown",
   "metadata": {},
   "source": [
    "#### Average Number of Total Crimes"
   ]
  },
  {
   "cell_type": "code",
   "execution_count": 12,
   "metadata": {
    "collapsed": false
   },
   "outputs": [
    {
     "name": "stdout",
     "output_type": "stream",
     "text": [
      "10553557.824561404\n"
     ]
    }
   ],
   "source": [
    "average_total = data[\"Total\"].mean()\n",
    "print(average_total)"
   ]
  },
  {
   "cell_type": "markdown",
   "metadata": {},
   "source": [
    "#### Average Number of Burglary Crimes"
   ]
  },
  {
   "cell_type": "code",
   "execution_count": 13,
   "metadata": {
    "collapsed": false
   },
   "outputs": [
    {
     "name": "stdout",
     "output_type": "stream",
     "text": [
      "2393104.596491228\n"
     ]
    }
   ],
   "source": [
    "average_burglary = data[\"Burglary\"].mean()\n",
    "print(average_burglary)"
   ]
  },
  {
   "cell_type": "markdown",
   "metadata": {},
   "source": [
    "#### Year with Low Crimes, High Burglary"
   ]
  },
  {
   "cell_type": "code",
   "execution_count": 14,
   "metadata": {
    "collapsed": false
   },
   "outputs": [
    {
     "name": "stdout",
     "output_type": "stream",
     "text": [
      "1971 1973 1974\n"
     ]
    }
   ],
   "source": [
    "low_crime = data[(data['Total'] < average_total) & (data['Burglary'] > average_burglary)].index\n",
    "print(*low_crime)"
   ]
  },
  {
   "cell_type": "markdown",
   "metadata": {},
   "source": [
    "#### Plot of Murders against population"
   ]
  },
  {
   "cell_type": "code",
   "execution_count": 15,
   "metadata": {
    "collapsed": false
   },
   "outputs": [
    {
     "data": {
      "text/plain": [
       "<matplotlib.axes._subplots.AxesSubplot at 0x11637b5f8>"
      ]
     },
     "execution_count": 15,
     "metadata": {},
     "output_type": "execute_result"
    },
    {
     "data": {
      "image/png": "[encoded data removed]",
      "text/plain": [
       "<matplotlib.figure.Figure at 0x1161bea90>"
      ]
     },
     "metadata": {},
     "output_type": "display_data"
    }
   ],
   "source": [
    "data.plot(x=\"Population\",y=\"Murder\")"
   ]
  },
  {
   "cell_type": "code",
   "execution_count": 16,
   "metadata": {
    "collapsed": false
   },
   "outputs": [
    {
     "data": {
      "text/html": [
       "<div>\n",
       "<style>\n",
       "    .dataframe thead tr:only-child th {\n",
       "        text-align: right;\n",
       "    }\n",
       "\n",
       "    .dataframe thead th {\n",
       "        text-align: left;\n",
       "    }\n",
       "\n",
       "    .dataframe tbody tr th {\n",
       "        vertical-align: top;\n",
       "    }\n",
       "</style>\n",
       "<table border=\"1\" class=\"dataframe\">\n",
       "  <thead>\n",
       "    <tr style=\"text-align: right;\">\n",
       "      <th></th>\n",
       "      <th>Population</th>\n",
       "      <th>Violent</th>\n",
       "      <th>Robbery</th>\n",
       "    </tr>\n",
       "    <tr>\n",
       "      <th>Year</th>\n",
       "      <th></th>\n",
       "      <th></th>\n",
       "      <th></th>\n",
       "    </tr>\n",
       "  </thead>\n",
       "  <tbody>\n",
       "    <tr>\n",
       "      <th>1980</th>\n",
       "      <td>225349264</td>\n",
       "      <td>1344520</td>\n",
       "      <td>565840</td>\n",
       "    </tr>\n",
       "    <tr>\n",
       "      <th>1981</th>\n",
       "      <td>229146000</td>\n",
       "      <td>1361820</td>\n",
       "      <td>592910</td>\n",
       "    </tr>\n",
       "    <tr>\n",
       "      <th>1982</th>\n",
       "      <td>231534000</td>\n",
       "      <td>1322390</td>\n",
       "      <td>553130</td>\n",
       "    </tr>\n",
       "    <tr>\n",
       "      <th>1983</th>\n",
       "      <td>233981000</td>\n",
       "      <td>1258090</td>\n",
       "      <td>506570</td>\n",
       "    </tr>\n",
       "    <tr>\n",
       "      <th>1984</th>\n",
       "      <td>236158000</td>\n",
       "      <td>1273280</td>\n",
       "      <td>485010</td>\n",
       "    </tr>\n",
       "    <tr>\n",
       "      <th>1985</th>\n",
       "      <td>238740000</td>\n",
       "      <td>1328800</td>\n",
       "      <td>497870</td>\n",
       "    </tr>\n",
       "    <tr>\n",
       "      <th>1986</th>\n",
       "      <td>240132887</td>\n",
       "      <td>1489169</td>\n",
       "      <td>542775</td>\n",
       "    </tr>\n",
       "    <tr>\n",
       "      <th>1987</th>\n",
       "      <td>242282918</td>\n",
       "      <td>1483999</td>\n",
       "      <td>517704</td>\n",
       "    </tr>\n",
       "    <tr>\n",
       "      <th>1988</th>\n",
       "      <td>245807000</td>\n",
       "      <td>1566220</td>\n",
       "      <td>542970</td>\n",
       "    </tr>\n",
       "    <tr>\n",
       "      <th>1989</th>\n",
       "      <td>248239000</td>\n",
       "      <td>1646040</td>\n",
       "      <td>578330</td>\n",
       "    </tr>\n",
       "  </tbody>\n",
       "</table>\n",
       "</div>"
      ],
      "text/plain": [
       "      Population  Violent  Robbery\n",
       "Year                              \n",
       "1980   225349264  1344520   565840\n",
       "1981   229146000  1361820   592910\n",
       "1982   231534000  1322390   553130\n",
       "1983   233981000  1258090   506570\n",
       "1984   236158000  1273280   485010\n",
       "1985   238740000  1328800   497870\n",
       "1986   240132887  1489169   542775\n",
       "1987   242282918  1483999   517704\n",
       "1988   245807000  1566220   542970\n",
       "1989   248239000  1646040   578330"
      ]
     },
     "execution_count": 16,
     "metadata": {},
     "output_type": "execute_result"
    }
   ],
   "source": [
    "low_crime = data[(data.index > 1979) & (data.index < 1990)][[\"Population\",\"Violent\",\"Robbery\"]]\n",
    "data.to_csv(\"crime_subset.csv\")\n",
    "low_crime"
   ]
  },
  {
   "cell_type": "markdown",
   "metadata": {},
   "source": [
    "In 1912 the RMS _Titanic_ sank after colliding with an iceberg.\n",
    "The file `titanic.csv` contains data on the incident.\n",
    "Each row represents a different passenger, and the columns describe various features of the passengers (age, sex, whether or not they survived, etc.)\n",
    "\n",
    "Cleaed the data by:\n",
    "- Reading the data into a `DataFrame`.\n",
    "    Used the first row of the file as the column labels.\n",
    "- Dropped the columns `\"Sibsp\"`, `\"Parch\"`, `\"Cabin\"`, `\"Boat\"`, `\"Body\"`, and `\"home.dest\"`.\n",
    "- Dropped any entries without data in the `\"Survived\"` column, then changed the remaining entries to `True` or `False` (they start as 1 or 0).\n",
    "- Replaced null entries in the `\"Age\"` column with the average age.\n",
    "- Saved the new `DataFrame` as `titanic_clean.csv`.\n",
    "\n",
    "Then, answerd the following questions:\n",
    "- How many people survived? What percentage of passengers survived?\n",
    "- What was the average price of a ticket? How much did the most expensive ticket cost?\n",
    "- How old was the oldest survivor? How young was the youngest survivor? What about non-survivors?"
   ]
  },
  {
   "cell_type": "code",
   "execution_count": 3,
   "metadata": {
    "collapsed": true
   },
   "outputs": [],
   "source": [
    "titanic_data = pd.read_csv(\"titanic.csv\")\n",
    "titanic_data = titanic_data.drop(['Sibsp','Parch','Cabin','Boat','Body','home.dest'],1)"
   ]
  },
  {
   "cell_type": "code",
   "execution_count": 4,
   "metadata": {
    "collapsed": false
   },
   "outputs": [
    {
     "data": {
      "text/html": [
       "<div>\n",
       "<style>\n",
       "    .dataframe thead tr:only-child th {\n",
       "        text-align: right;\n",
       "    }\n",
       "\n",
       "    .dataframe thead th {\n",
       "        text-align: left;\n",
       "    }\n",
       "\n",
       "    .dataframe tbody tr th {\n",
       "        vertical-align: top;\n",
       "    }\n",
       "</style>\n",
       "<table border=\"1\" class=\"dataframe\">\n",
       "  <thead>\n",
       "    <tr style=\"text-align: right;\">\n",
       "      <th></th>\n",
       "      <th>Pclass</th>\n",
       "      <th>Survived</th>\n",
       "      <th>Name</th>\n",
       "      <th>Sex</th>\n",
       "      <th>Age</th>\n",
       "      <th>Ticket</th>\n",
       "      <th>Fare</th>\n",
       "      <th>Embarked</th>\n",
       "    </tr>\n",
       "  </thead>\n",
       "  <tbody>\n",
       "    <tr>\n",
       "      <th>0</th>\n",
       "      <td>1.0</td>\n",
       "      <td>1.0</td>\n",
       "      <td>Allen, Miss. Elisabeth Walton</td>\n",
       "      <td>female</td>\n",
       "      <td>29.0000</td>\n",
       "      <td>24160</td>\n",
       "      <td>211.3375</td>\n",
       "      <td>S</td>\n",
       "    </tr>\n",
       "    <tr>\n",
       "      <th>1</th>\n",
       "      <td>1.0</td>\n",
       "      <td>1.0</td>\n",
       "      <td>Allison, Master. Hudson Trevor</td>\n",
       "      <td>male</td>\n",
       "      <td>0.9167</td>\n",
       "      <td>113781</td>\n",
       "      <td>151.5500</td>\n",
       "      <td>S</td>\n",
       "    </tr>\n",
       "    <tr>\n",
       "      <th>2</th>\n",
       "      <td>1.0</td>\n",
       "      <td>0.0</td>\n",
       "      <td>Allison, Miss. Helen Loraine</td>\n",
       "      <td>female</td>\n",
       "      <td>2.0000</td>\n",
       "      <td>113781</td>\n",
       "      <td>151.5500</td>\n",
       "      <td>S</td>\n",
       "    </tr>\n",
       "    <tr>\n",
       "      <th>3</th>\n",
       "      <td>1.0</td>\n",
       "      <td>0.0</td>\n",
       "      <td>Allison, Mr. Hudson Joshua Creighton</td>\n",
       "      <td>male</td>\n",
       "      <td>30.0000</td>\n",
       "      <td>113781</td>\n",
       "      <td>151.5500</td>\n",
       "      <td>S</td>\n",
       "    </tr>\n",
       "    <tr>\n",
       "      <th>4</th>\n",
       "      <td>1.0</td>\n",
       "      <td>0.0</td>\n",
       "      <td>Allison, Mrs. Hudson J C (Bessie Waldo Daniels)</td>\n",
       "      <td>female</td>\n",
       "      <td>25.0000</td>\n",
       "      <td>113781</td>\n",
       "      <td>151.5500</td>\n",
       "      <td>S</td>\n",
       "    </tr>\n",
       "  </tbody>\n",
       "</table>\n",
       "</div>"
      ],
      "text/plain": [
       "   Pclass  Survived                                             Name     Sex  \\\n",
       "0     1.0       1.0                    Allen, Miss. Elisabeth Walton  female   \n",
       "1     1.0       1.0                   Allison, Master. Hudson Trevor    male   \n",
       "2     1.0       0.0                     Allison, Miss. Helen Loraine  female   \n",
       "3     1.0       0.0             Allison, Mr. Hudson Joshua Creighton    male   \n",
       "4     1.0       0.0  Allison, Mrs. Hudson J C (Bessie Waldo Daniels)  female   \n",
       "\n",
       "       Age  Ticket      Fare Embarked  \n",
       "0  29.0000   24160  211.3375        S  \n",
       "1   0.9167  113781  151.5500        S  \n",
       "2   2.0000  113781  151.5500        S  \n",
       "3  30.0000  113781  151.5500        S  \n",
       "4  25.0000  113781  151.5500        S  "
      ]
     },
     "execution_count": 4,
     "metadata": {},
     "output_type": "execute_result"
    }
   ],
   "source": [
    "titanic_data.head()"
   ]
  },
  {
   "cell_type": "code",
   "execution_count": 5,
   "metadata": {
    "collapsed": false
   },
   "outputs": [],
   "source": [
    "titanic_data = titanic_data.dropna(subset=['Survived'])\n",
    "titanic_data['Survived'] = titanic_data['Survived'].astype(bool)"
   ]
  },
  {
   "cell_type": "code",
   "execution_count": 16,
   "metadata": {
    "collapsed": false
   },
   "outputs": [
    {
     "data": {
      "text/html": [
       "<div>\n",
       "<style>\n",
       "    .dataframe thead tr:only-child th {\n",
       "        text-align: right;\n",
       "    }\n",
       "\n",
       "    .dataframe thead th {\n",
       "        text-align: left;\n",
       "    }\n",
       "\n",
       "    .dataframe tbody tr th {\n",
       "        vertical-align: top;\n",
       "    }\n",
       "</style>\n",
       "<table border=\"1\" class=\"dataframe\">\n",
       "  <thead>\n",
       "    <tr style=\"text-align: right;\">\n",
       "      <th></th>\n",
       "      <th>Pclass</th>\n",
       "      <th>Survived</th>\n",
       "      <th>Name</th>\n",
       "      <th>Sex</th>\n",
       "      <th>Age</th>\n",
       "      <th>Ticket</th>\n",
       "      <th>Fare</th>\n",
       "      <th>Embarked</th>\n",
       "    </tr>\n",
       "  </thead>\n",
       "  <tbody>\n",
       "    <tr>\n",
       "      <th>0</th>\n",
       "      <td>1.0</td>\n",
       "      <td>True</td>\n",
       "      <td>Allen, Miss. Elisabeth Walton</td>\n",
       "      <td>female</td>\n",
       "      <td>29.0000</td>\n",
       "      <td>24160</td>\n",
       "      <td>211.3375</td>\n",
       "      <td>S</td>\n",
       "    </tr>\n",
       "    <tr>\n",
       "      <th>1</th>\n",
       "      <td>1.0</td>\n",
       "      <td>True</td>\n",
       "      <td>Allison, Master. Hudson Trevor</td>\n",
       "      <td>male</td>\n",
       "      <td>0.9167</td>\n",
       "      <td>113781</td>\n",
       "      <td>151.5500</td>\n",
       "      <td>S</td>\n",
       "    </tr>\n",
       "    <tr>\n",
       "      <th>2</th>\n",
       "      <td>1.0</td>\n",
       "      <td>False</td>\n",
       "      <td>Allison, Miss. Helen Loraine</td>\n",
       "      <td>female</td>\n",
       "      <td>2.0000</td>\n",
       "      <td>113781</td>\n",
       "      <td>151.5500</td>\n",
       "      <td>S</td>\n",
       "    </tr>\n",
       "    <tr>\n",
       "      <th>3</th>\n",
       "      <td>1.0</td>\n",
       "      <td>False</td>\n",
       "      <td>Allison, Mr. Hudson Joshua Creighton</td>\n",
       "      <td>male</td>\n",
       "      <td>30.0000</td>\n",
       "      <td>113781</td>\n",
       "      <td>151.5500</td>\n",
       "      <td>S</td>\n",
       "    </tr>\n",
       "    <tr>\n",
       "      <th>4</th>\n",
       "      <td>1.0</td>\n",
       "      <td>False</td>\n",
       "      <td>Allison, Mrs. Hudson J C (Bessie Waldo Daniels)</td>\n",
       "      <td>female</td>\n",
       "      <td>25.0000</td>\n",
       "      <td>113781</td>\n",
       "      <td>151.5500</td>\n",
       "      <td>S</td>\n",
       "    </tr>\n",
       "  </tbody>\n",
       "</table>\n",
       "</div>"
      ],
      "text/plain": [
       "   Pclass  Survived                                             Name     Sex  \\\n",
       "0     1.0      True                    Allen, Miss. Elisabeth Walton  female   \n",
       "1     1.0      True                   Allison, Master. Hudson Trevor    male   \n",
       "2     1.0     False                     Allison, Miss. Helen Loraine  female   \n",
       "3     1.0     False             Allison, Mr. Hudson Joshua Creighton    male   \n",
       "4     1.0     False  Allison, Mrs. Hudson J C (Bessie Waldo Daniels)  female   \n",
       "\n",
       "       Age  Ticket      Fare Embarked  \n",
       "0  29.0000   24160  211.3375        S  \n",
       "1   0.9167  113781  151.5500        S  \n",
       "2   2.0000  113781  151.5500        S  \n",
       "3  30.0000  113781  151.5500        S  \n",
       "4  25.0000  113781  151.5500        S  "
      ]
     },
     "execution_count": 16,
     "metadata": {},
     "output_type": "execute_result"
    }
   ],
   "source": [
    "titanic_data.head()"
   ]
  },
  {
   "cell_type": "code",
   "execution_count": 36,
   "metadata": {
    "collapsed": false
   },
   "outputs": [
    {
     "data": {
      "text/html": [
       "<div>\n",
       "<style>\n",
       "    .dataframe thead tr:only-child th {\n",
       "        text-align: right;\n",
       "    }\n",
       "\n",
       "    .dataframe thead th {\n",
       "        text-align: left;\n",
       "    }\n",
       "\n",
       "    .dataframe tbody tr th {\n",
       "        vertical-align: top;\n",
       "    }\n",
       "</style>\n",
       "<table border=\"1\" class=\"dataframe\">\n",
       "  <thead>\n",
       "    <tr style=\"text-align: right;\">\n",
       "      <th></th>\n",
       "      <th>Pclass</th>\n",
       "      <th>Survived</th>\n",
       "      <th>Name</th>\n",
       "      <th>Sex</th>\n",
       "      <th>Age</th>\n",
       "      <th>Ticket</th>\n",
       "      <th>Fare</th>\n",
       "      <th>Embarked</th>\n",
       "    </tr>\n",
       "  </thead>\n",
       "  <tbody>\n",
       "    <tr>\n",
       "      <th>0</th>\n",
       "      <td>1.0</td>\n",
       "      <td>True</td>\n",
       "      <td>Allen, Miss. Elisabeth Walton</td>\n",
       "      <td>female</td>\n",
       "      <td>29.0000</td>\n",
       "      <td>24160</td>\n",
       "      <td>211.3375</td>\n",
       "      <td>S</td>\n",
       "    </tr>\n",
       "    <tr>\n",
       "      <th>1</th>\n",
       "      <td>1.0</td>\n",
       "      <td>True</td>\n",
       "      <td>Allison, Master. Hudson Trevor</td>\n",
       "      <td>male</td>\n",
       "      <td>0.9167</td>\n",
       "      <td>113781</td>\n",
       "      <td>151.5500</td>\n",
       "      <td>S</td>\n",
       "    </tr>\n",
       "    <tr>\n",
       "      <th>2</th>\n",
       "      <td>1.0</td>\n",
       "      <td>False</td>\n",
       "      <td>Allison, Miss. Helen Loraine</td>\n",
       "      <td>female</td>\n",
       "      <td>2.0000</td>\n",
       "      <td>113781</td>\n",
       "      <td>151.5500</td>\n",
       "      <td>S</td>\n",
       "    </tr>\n",
       "    <tr>\n",
       "      <th>3</th>\n",
       "      <td>1.0</td>\n",
       "      <td>False</td>\n",
       "      <td>Allison, Mr. Hudson Joshua Creighton</td>\n",
       "      <td>male</td>\n",
       "      <td>30.0000</td>\n",
       "      <td>113781</td>\n",
       "      <td>151.5500</td>\n",
       "      <td>S</td>\n",
       "    </tr>\n",
       "    <tr>\n",
       "      <th>4</th>\n",
       "      <td>1.0</td>\n",
       "      <td>False</td>\n",
       "      <td>Allison, Mrs. Hudson J C (Bessie Waldo Daniels)</td>\n",
       "      <td>female</td>\n",
       "      <td>25.0000</td>\n",
       "      <td>113781</td>\n",
       "      <td>151.5500</td>\n",
       "      <td>S</td>\n",
       "    </tr>\n",
       "  </tbody>\n",
       "</table>\n",
       "</div>"
      ],
      "text/plain": [
       "   Pclass  Survived                                             Name     Sex  \\\n",
       "0     1.0      True                    Allen, Miss. Elisabeth Walton  female   \n",
       "1     1.0      True                   Allison, Master. Hudson Trevor    male   \n",
       "2     1.0     False                     Allison, Miss. Helen Loraine  female   \n",
       "3     1.0     False             Allison, Mr. Hudson Joshua Creighton    male   \n",
       "4     1.0     False  Allison, Mrs. Hudson J C (Bessie Waldo Daniels)  female   \n",
       "\n",
       "       Age  Ticket      Fare Embarked  \n",
       "0  29.0000   24160  211.3375        S  \n",
       "1   0.9167  113781  151.5500        S  \n",
       "2   2.0000  113781  151.5500        S  \n",
       "3  30.0000  113781  151.5500        S  \n",
       "4  25.0000  113781  151.5500        S  "
      ]
     },
     "execution_count": 36,
     "metadata": {},
     "output_type": "execute_result"
    }
   ],
   "source": [
    "average_age = titanic_data['Age'].sum()/len(titanic_data['Age'].dropna())\n",
    "titanic_data['Age'] = titanic_data['Age'].fillna(average_age)\n",
    "titanic_data.head()"
   ]
  },
  {
   "cell_type": "code",
   "execution_count": 18,
   "metadata": {
    "collapsed": true
   },
   "outputs": [],
   "source": [
    "titanic_data.to_csv(\"titanic_clean.csv\")"
   ]
  },
  {
   "cell_type": "markdown",
   "metadata": {},
   "source": [
    "#### How many people survived?"
   ]
  },
  {
   "cell_type": "code",
   "execution_count": 43,
   "metadata": {
    "collapsed": false
   },
   "outputs": [
    {
     "name": "stdout",
     "output_type": "stream",
     "text": [
      "500\n"
     ]
    }
   ],
   "source": [
    "survived = len(titanic_data['Survived'][titanic_data['Survived'] == True])\n",
    "print(survived)"
   ]
  },
  {
   "cell_type": "markdown",
   "metadata": {},
   "source": [
    "#### What percentage of passengers survived?"
   ]
  },
  {
   "cell_type": "code",
   "execution_count": 44,
   "metadata": {
    "collapsed": false
   },
   "outputs": [
    {
     "name": "stdout",
     "output_type": "stream",
     "text": [
      "0.3819709702062643\n"
     ]
    }
   ],
   "source": [
    "total = len(titanic_data['Survived'])\n",
    "percentage = survived/total\n",
    "print(percentage)"
   ]
  },
  {
   "cell_type": "markdown",
   "metadata": {},
   "source": [
    "#### What was the average price of a ticket?"
   ]
  },
  {
   "cell_type": "code",
   "execution_count": 34,
   "metadata": {
    "collapsed": false
   },
   "outputs": [
    {
     "name": "stdout",
     "output_type": "stream",
     "text": [
      "33.270043468296564\n"
     ]
    }
   ],
   "source": [
    "sum_prices = titanic_data['Fare'].sum()\n",
    "average = sum_prices/total\n",
    "print(average)"
   ]
  },
  {
   "cell_type": "markdown",
   "metadata": {},
   "source": [
    "#### How much did the most expensive ticket cost?"
   ]
  },
  {
   "cell_type": "code",
   "execution_count": 38,
   "metadata": {
    "collapsed": false
   },
   "outputs": [
    {
     "name": "stdout",
     "output_type": "stream",
     "text": [
      "512.3292\n"
     ]
    }
   ],
   "source": [
    "highest = titanic_data['Fare'].max()\n",
    "print(highest)"
   ]
  },
  {
   "cell_type": "markdown",
   "metadata": {},
   "source": [
    "#### How old was the oldest survivor?"
   ]
  },
  {
   "cell_type": "code",
   "execution_count": 49,
   "metadata": {
    "collapsed": false
   },
   "outputs": [
    {
     "name": "stdout",
     "output_type": "stream",
     "text": [
      "80.0\n"
     ]
    }
   ],
   "source": [
    "ages_survived = titanic_data[titanic_data['Survived'] == True]['Age']\n",
    "print(ages_survived.max())"
   ]
  },
  {
   "cell_type": "markdown",
   "metadata": {},
   "source": [
    "#### How young was the youngest survivor?"
   ]
  },
  {
   "cell_type": "code",
   "execution_count": 50,
   "metadata": {
    "collapsed": false
   },
   "outputs": [
    {
     "name": "stdout",
     "output_type": "stream",
     "text": [
      "0.1667\n"
     ]
    }
   ],
   "source": [
    "print(ages_survived.min())"
   ]
  },
  {
   "cell_type": "markdown",
   "metadata": {},
   "source": [
    "#### How old was the oldest non-survivor?"
   ]
  },
  {
   "cell_type": "code",
   "execution_count": 53,
   "metadata": {
    "collapsed": false
   },
   "outputs": [
    {
     "name": "stdout",
     "output_type": "stream",
     "text": [
      "74.0\n"
     ]
    }
   ],
   "source": [
    "ages_died = titanic_data[titanic_data['Survived'] == False]['Age']\n",
    "print(ages_died.max())"
   ]
  },
  {
   "cell_type": "markdown",
   "metadata": {},
   "source": [
    "#### How young was the youngest non-survivor?"
   ]
  },
  {
   "cell_type": "code",
   "execution_count": 52,
   "metadata": {
    "collapsed": false
   },
   "outputs": [
    {
     "name": "stdout",
     "output_type": "stream",
     "text": [
      "0.3333\n"
     ]
    }
   ],
   "source": [
    "print(ages_died.min())"
   ]
  }
 ],
 "metadata": {
  "anaconda-cloud": {},
  "kernelspec": {
   "display_name": "Python [py36]",
   "language": "python",
   "name": "Python [py36]"
  },
  "language_info": {
   "codemirror_mode": {
    "name": "ipython",
    "version": 3
   },
   "file_extension": ".py",
   "mimetype": "text/x-python",
   "name": "python",
   "nbconvert_exporter": "python",
   "pygments_lexer": "ipython3",
   "version": "3.6.3"
  }
 },
 "nbformat": 4,
 "nbformat_minor": 2
}
